{
 "cells": [
  {
   "cell_type": "code",
   "execution_count": 1,
   "id": "fd3e1eea",
   "metadata": {},
   "outputs": [],
   "source": [
    "import time\n",
    "import multiprocessing\n",
    "from multiprocessing import Pool\n",
    "import requests\n"
   ]
  },
  {
   "cell_type": "code",
   "execution_count": 2,
   "id": "f92d9f1c",
   "metadata": {},
   "outputs": [],
   "source": [
    "urls = ['https://hatenablog.com/', 'https://ameblo.jp/', 'https://qiita.com/', 'https://zenn.dev/']\n",
    "\n",
    "def get_html(url):\n",
    "    return requests.get(url)"
   ]
  },
  {
   "cell_type": "code",
   "execution_count": 3,
   "id": "96109ce5",
   "metadata": {},
   "outputs": [
    {
     "name": "stdout",
     "output_type": "stream",
     "text": [
      "0.5100688934326172\n"
     ]
    }
   ],
   "source": [
    "htmls = []\n",
    "\n",
    "start_serial = time.time()\n",
    "\n",
    "for u in urls:\n",
    "    htmls.append(get_html(u))\n",
    "\n",
    "end_serial = time.time()\n",
    "\n",
    "print(end_serial - start_serial)"
   ]
  },
  {
   "cell_type": "code",
   "execution_count": 4,
   "id": "66ff4a0e",
   "metadata": {},
   "outputs": [
    {
     "data": {
      "text/plain": [
       "[<Response [200]>, <Response [200]>, <Response [200]>, <Response [200]>]"
      ]
     },
     "execution_count": 4,
     "metadata": {},
     "output_type": "execute_result"
    }
   ],
   "source": [
    "htmls"
   ]
  },
  {
   "cell_type": "code",
   "execution_count": 5,
   "id": "5eba680f",
   "metadata": {},
   "outputs": [
    {
     "data": {
      "text/plain": [
       "4"
      ]
     },
     "execution_count": 5,
     "metadata": {},
     "output_type": "execute_result"
    }
   ],
   "source": [
    "multiprocessing.cpu_count()"
   ]
  },
  {
   "cell_type": "code",
   "execution_count": 6,
   "id": "514bedd8",
   "metadata": {
    "scrolled": true
   },
   "outputs": [
    {
     "name": "stdout",
     "output_type": "stream",
     "text": [
      "0.26929211616516113\n"
     ]
    }
   ],
   "source": [
    "htmls = []\n",
    "\n",
    "start_parallel = time.time()\n",
    "\n",
    "p = Pool(multiprocessing.cpu_count())\n",
    "htmls = p.map(get_html, urls)\n",
    "p.close()\n",
    "\n",
    "end_parallel = time.time()\n",
    "\n",
    "print(end_parallel - start_parallel)"
   ]
  },
  {
   "cell_type": "code",
   "execution_count": 7,
   "id": "8e66f386",
   "metadata": {},
   "outputs": [
    {
     "data": {
      "text/plain": [
       "[<Response [200]>, <Response [200]>, <Response [200]>, <Response [200]>]"
      ]
     },
     "execution_count": 7,
     "metadata": {},
     "output_type": "execute_result"
    }
   ],
   "source": [
    "htmls"
   ]
  },
  {
   "cell_type": "code",
   "execution_count": 8,
   "id": "a82b5a96",
   "metadata": {},
   "outputs": [
    {
     "name": "stdout",
     "output_type": "stream",
     "text": [
      "alabaster==0.7.12\r\n",
      "anaconda-client @ file:///opt/concourse/worker/volumes/live/424fe3f5-0bd3-45e2-51fc-f7d110e2985b/volume/anaconda-client_1624480170830/work\r\n",
      "anaconda-navigator==1.9.7\r\n",
      "anaconda-project @ file:///tmp/build/80754af9/anaconda-project_1621348054992/work\r\n",
      "anyio @ file:///opt/concourse/worker/volumes/live/4ff95164-2ca6-4efb-5c02-5afee907620d/volume/anyio_1617783322708/work/dist\r\n",
      "appdirs==1.4.4\r\n",
      "applaunchservices==0.2.1\r\n",
      "appnope @ file:///opt/concourse/worker/volumes/live/4f734db2-9ca8-4d8b-5b29-6ca15b4b4772/volume/appnope_1606859466979/work\r\n",
      "appscript @ file:///opt/concourse/worker/volumes/live/27fecc2e-9c75-4367-685d-08900606dee2/volume/appscript_1611427007141/work\r\n",
      "argh==0.26.2\r\n",
      "argon2-cffi @ file:///opt/concourse/worker/volumes/live/4afd07c8-7fc3-4a09-6326-d8c70269eb33/volume/argon2-cffi_1613037490059/work\r\n",
      "arrow==0.13.1\r\n",
      "asn1crypto @ file:///tmp/build/80754af9/asn1crypto_1596577642040/work\r\n",
      "astroid @ file:///opt/concourse/worker/volumes/live/a3e40085-ce29-4a59-6232-dbac26252689/volume/astroid_1625075829026/work\r\n",
      "astropy @ file:///opt/concourse/worker/volumes/live/85a2fb10-7a93-44a4-5655-cc85b9e96221/volume/astropy_1617745466523/work\r\n",
      "async-generator==1.10\r\n",
      "atomicwrites==1.4.0\r\n",
      "attrs @ file:///tmp/build/80754af9/attrs_1620827162558/work\r\n",
      "autopep8 @ file:///tmp/build/80754af9/autopep8_1615918855173/work\r\n",
      "Babel @ file:///tmp/build/80754af9/babel_1620871417480/work\r\n",
      "backcall @ file:///home/ktietz/src/ci/backcall_1611930011877/work\r\n",
      "backports.functools-lru-cache @ file:///tmp/build/80754af9/backports.functools_lru_cache_1618170165463/work\r\n",
      "backports.os==0.1.1\r\n",
      "backports.shutil-get-terminal-size @ file:///tmp/build/80754af9/backports.shutil_get_terminal_size_1608222128777/work\r\n",
      "backports.tempfile @ file:///home/linux1/recipes/ci/backports.tempfile_1610991236607/work\r\n",
      "backports.weakref==1.0.post1\r\n",
      "beautifulsoup4 @ file:///home/linux1/recipes/ci/beautifulsoup4_1610988766420/work\r\n",
      "binaryornot @ file:///tmp/build/80754af9/binaryornot_1617751525010/work\r\n",
      "bitarray @ file:///opt/concourse/worker/volumes/live/03d6cd38-71b0-47db-551b-271c678a09c1/volume/bitarray_1620827541775/work\r\n",
      "bkcharts==0.2\r\n",
      "black==19.10b0\r\n",
      "bleach @ file:///tmp/build/80754af9/bleach_1612211392645/work\r\n",
      "bokeh @ file:///opt/concourse/worker/volumes/live/073cfb25-0df7-4016-4c51-7590814b3c6c/volume/bokeh_1625767507553/work\r\n",
      "boto==2.49.0\r\n",
      "Bottleneck==1.3.2\r\n",
      "brotlipy==0.7.0\r\n",
      "category-encoders==2.1.0\r\n",
      "certifi==2021.5.30\r\n",
      "cffi @ file:///opt/concourse/worker/volumes/live/6c36dbc5-b034-4f06-648a-01cd8d1c373d/volume/cffi_1625831666078/work\r\n",
      "chardet @ file:///opt/concourse/worker/volumes/live/9efbf151-b45b-463d-6340-a5c399bf00b7/volume/chardet_1607706825988/work\r\n",
      "click @ file:///tmp/build/80754af9/click_1621604852318/work\r\n",
      "cloudpickle @ file:///tmp/build/80754af9/cloudpickle_1598884132938/work\r\n",
      "clyent==1.2.2\r\n",
      "colorama @ file:///tmp/build/80754af9/colorama_1607707115595/work\r\n",
      "conda==4.10.3\r\n",
      "conda-build==3.18.8\r\n",
      "conda-pack @ file:///tmp/build/80754af9/conda-pack_1611163042455/work\r\n",
      "conda-package-handling @ file:///opt/concourse/worker/volumes/live/d106838d-eaa7-40fd-5437-9d95a7db5458/volume/conda-package-handling_1618262135990/work\r\n",
      "conda-verify==3.4.2\r\n",
      "contextlib2==0.6.0.post1\r\n",
      "cookiecutter @ file:///tmp/build/80754af9/cookiecutter_1617748928239/work\r\n",
      "cryptography @ file:///opt/concourse/worker/volumes/live/cdf8ff17-b0bf-4081-524c-b5a0afe929ba/volume/cryptography_1616769280208/work\r\n",
      "cycler==0.10.0\r\n",
      "Cython @ file:///opt/concourse/worker/volumes/live/203a63af-5d69-4f3f-44a3-6968eb710a6a/volume/cython_1618435144870/work\r\n",
      "cytoolz==0.11.0\r\n",
      "dask @ file:///tmp/build/80754af9/dask-core_1624381970968/work\r\n",
      "decorator @ file:///tmp/build/80754af9/decorator_1621259047763/work\r\n",
      "defusedxml @ file:///tmp/build/80754af9/defusedxml_1615228127516/work\r\n",
      "diff-match-patch @ file:///tmp/build/80754af9/diff-match-patch_1594828741838/work\r\n",
      "distributed @ file:///opt/concourse/worker/volumes/live/71acff23-c50a-4f7b-5fd1-bc36efa2aaa9/volume/distributed_1624589322407/work\r\n",
      "docutils @ file:///opt/concourse/worker/volumes/live/4d08a32e-3c8a-4d2d-4b17-f3c8b943d07b/volume/docutils_1620827969351/work\r\n",
      "edinet-xbrl==0.2.0\r\n",
      "entrypoints==0.3\r\n",
      "et-xmlfile==1.1.0\r\n",
      "ExKMC==0.0.3\r\n",
      "factor-analyzer==0.3.2\r\n",
      "fastcache==1.1.0\r\n",
      "filelock @ file:///home/linux1/recipes/ci/filelock_1610993975404/work\r\n",
      "flake8 @ file:///tmp/build/80754af9/flake8_1615834841867/work\r\n",
      "Flask @ file:///home/ktietz/src/ci/flask_1611932660458/work\r\n",
      "fsspec @ file:///tmp/build/80754af9/fsspec_1623705546600/work\r\n",
      "future==0.18.2\r\n",
      "gensim==4.1.2\r\n",
      "geocoder==1.38.1\r\n",
      "gevent @ file:///opt/concourse/worker/volumes/live/c9692c6d-50c4-4197-4de2-6c138d206ad6/volume/gevent_1616772940935/work\r\n",
      "glob2 @ file:///home/linux1/recipes/ci/glob2_1610991677669/work\r\n",
      "gmpy2==2.0.8\r\n",
      "googlemaps==4.2.2\r\n",
      "graphviz==0.19.1\r\n",
      "greenlet @ file:///opt/concourse/worker/volumes/live/8bdf7f20-9285-4102-6a26-20f7823be2b8/volume/greenlet_1620913619263/work\r\n",
      "h5py==2.10.0\r\n",
      "HeapDict==1.0.1\r\n",
      "html5lib @ file:///tmp/build/80754af9/html5lib_1593446221756/work\r\n",
      "idna @ file:///home/linux1/recipes/ci/idna_1610986105248/work\r\n",
      "imageio @ file:///tmp/build/80754af9/imageio_1617700267927/work\r\n",
      "imagesize @ file:///home/ktietz/src/ci/imagesize_1611921604382/work\r\n",
      "importlib-metadata @ file:///opt/concourse/worker/volumes/live/4e25a0be-45cc-4b73-4314-4604f00e30a4/volume/importlib-metadata_1617877365451/work\r\n",
      "inflection==0.5.1\r\n",
      "iniconfig @ file:///home/linux1/recipes/ci/iniconfig_1610983019677/work\r\n",
      "intervaltree @ file:///tmp/build/80754af9/intervaltree_1598376443606/work\r\n",
      "ipykernel @ file:///opt/concourse/worker/volumes/live/73e8766c-12c3-4f76-62a6-3dea9a7da5b7/volume/ipykernel_1596206701501/work/dist/ipykernel-5.3.4-py3-none-any.whl\r\n",
      "ipython @ file:///opt/concourse/worker/volumes/live/f33fa11b-d908-43e8-693a-f4b58d8c695c/volume/ipython_1617120878195/work\r\n",
      "ipython-genutils @ file:///tmp/build/80754af9/ipython_genutils_1606773439826/work\r\n",
      "ipywidgets @ file:///tmp/build/80754af9/ipywidgets_1610481889018/work\r\n",
      "isort @ file:///tmp/build/80754af9/isort_1625834821980/work\r\n",
      "itsdangerous @ file:///tmp/build/80754af9/itsdangerous_1621432558163/work\r\n",
      "jdcal==1.4.1\r\n",
      "jedi @ file:///opt/concourse/worker/volumes/live/5006b7b5-a924-4788-6cfe-ae05d8be8830/volume/jedi_1606932947370/work\r\n",
      "Jinja2 @ file:///tmp/build/80754af9/jinja2_1612213139570/work\r\n",
      "jinja2-time @ file:///tmp/build/80754af9/jinja2-time_1617751524098/work\r\n",
      "joblib @ file:///tmp/build/80754af9/joblib_1613502643832/work\r\n",
      "json5 @ file:///tmp/build/80754af9/json5_1624432770122/work\r\n",
      "jsonschema @ file:///tmp/build/80754af9/jsonschema_1602607155483/work\r\n",
      "jupyter==1.0.0\r\n",
      "jupyter-client @ file:///tmp/build/80754af9/jupyter_client_1616770841739/work\r\n",
      "jupyter-console @ file:///tmp/build/80754af9/jupyter_console_1616615302928/work\r\n",
      "jupyter-core @ file:///opt/concourse/worker/volumes/live/a699b83f-e941-4170-5136-bf87e3f37756/volume/jupyter_core_1612213304212/work\r\n",
      "jupyter-packaging @ file:///tmp/build/80754af9/jupyter-packaging_1613502826984/work\r\n",
      "jupyter-server @ file:///opt/concourse/worker/volumes/live/8c909028-d80d-4303-5883-52f907a3cf74/volume/jupyter_server_1616084052708/work\r\n",
      "jupyterlab @ file:///tmp/build/80754af9/jupyterlab_1619133235951/work\r\n",
      "jupyterlab-pygments @ file:///tmp/build/80754af9/jupyterlab_pygments_1601490720602/work\r\n",
      "jupyterlab-server @ file:///tmp/build/80754af9/jupyterlab_server_1617134334258/work\r\n",
      "jupyterlab-widgets @ file:///tmp/build/80754af9/jupyterlab_widgets_1609884341231/work\r\n",
      "keyring @ file:///opt/concourse/worker/volumes/live/e0f57304-71e8-4059-5ecf-e3cfed2fbea0/volume/keyring_1621524568268/work\r\n",
      "kiwisolver @ file:///opt/concourse/worker/volumes/live/1e6d28e8-da14-4365-7344-567a05db7efc/volume/kiwisolver_1612282399491/work\r\n",
      "lazy-object-proxy @ file:///opt/concourse/worker/volumes/live/62c2169c-fe65-46ff-434a-480cde88c65b/volume/lazy-object-proxy_1616529070475/work\r\n",
      "libarchive-c @ file:///tmp/build/80754af9/python-libarchive-c_1617780486945/work\r\n",
      "llvmlite==0.29.0\r\n",
      "locket==0.2.1\r\n",
      "lxml @ file:///opt/concourse/worker/volumes/live/a4879036-1466-48b6-6c8d-95f5cf7bc17d/volume/lxml_1616443217052/work\r\n",
      "MarkupSafe==1.1.1\r\n",
      "marshmallow==3.0.3\r\n",
      "matplotlib @ file:///opt/concourse/worker/volumes/live/41e8cd50-031f-4dda-5787-dd3c4f4e0f08/volume/matplotlib-suite_1613407855571/work\r\n",
      "mccabe==0.6.1\r\n",
      "mistune==0.8.4\r\n",
      "mkl-fft==1.3.0\r\n",
      "mkl-random @ file:///opt/concourse/worker/volumes/live/45391dab-1d51-4226-600a-9065613b835f/volume/mkl_random_1618853975662/work\r\n",
      "mkl-service==2.3.0\r\n",
      "mlxtend==0.17.0\r\n",
      "mock @ file:///tmp/build/80754af9/mock_1607622725907/work\r\n",
      "more-itertools @ file:///tmp/build/80754af9/more-itertools_1622818384463/work\r\n",
      "mpmath==1.2.1\r\n",
      "msgpack @ file:///opt/concourse/worker/volumes/live/790199ef-c7e3-451c-7ad3-97c9dd52a04d/volume/msgpack-python_1612287158473/work\r\n",
      "multipledispatch==0.6.0\r\n",
      "mypy-extensions==0.4.3\r\n",
      "navigator-updater==0.2.1\r\n",
      "nbclassic @ file:///tmp/build/80754af9/nbclassic_1616085367084/work\r\n",
      "nbclient @ file:///tmp/build/80754af9/nbclient_1614364831625/work\r\n",
      "nbconvert @ file:///opt/concourse/worker/volumes/live/84c159ef-8fac-4372-7b64-25f831ab7aec/volume/nbconvert_1624479064764/work\r\n",
      "nbformat @ file:///tmp/build/80754af9/nbformat_1617383369282/work\r\n",
      "nest-asyncio @ file:///tmp/build/80754af9/nest-asyncio_1613680548246/work\r\n",
      "networkx @ file:///tmp/build/80754af9/networkx_1598376031484/work\r\n",
      "nltk @ file:///tmp/build/80754af9/nltk_1621347441292/work\r\n",
      "nose @ file:///tmp/build/80754af9/nose_1606773131901/work\r\n",
      "notebook @ file:///opt/concourse/worker/volumes/live/f984e24b-6ef4-4a5b-55be-c5db1417e27a/volume/notebook_1621528337539/work\r\n",
      "numba==0.44.1\r\n",
      "numexpr @ file:///opt/concourse/worker/volumes/live/6bbc9b0e-ade0-40db-6ee6-74c979385fbb/volume/numexpr_1618856531941/work\r\n",
      "numpy @ file:///opt/concourse/worker/volumes/live/8f1c8f9f-9894-46f7-7adc-bf8ad6d8fadd/volume/numpy_and_numpy_base_1620831190001/work\r\n",
      "numpydoc @ file:///tmp/build/80754af9/numpydoc_1605117425582/work\r\n",
      "olefile==0.46\r\n",
      "openpyxl @ file:///tmp/build/80754af9/openpyxl_1615411699337/work\r\n",
      "ordereddict==1.1\r\n",
      "packaging @ file:///tmp/build/80754af9/packaging_1625611678980/work\r\n",
      "pandas==1.2.5\r\n",
      "pandocfilters @ file:///opt/concourse/worker/volumes/live/315ac9bb-93fd-4adc-6795-345692fcfaed/volume/pandocfilters_1605120446899/work\r\n",
      "parso==0.7.0\r\n",
      "partd @ file:///tmp/build/80754af9/partd_1618000087440/work\r\n",
      "path @ file:///opt/concourse/worker/volumes/live/fc3667f0-530f-488f-6e7e-0ce8e95587f8/volume/path_1623603888470/work\r\n",
      "pathlib2 @ file:///opt/concourse/worker/volumes/live/dd7bb6c0-2a61-4578-7856-988a10c938d4/volume/pathlib2_1625585688883/work\r\n",
      "pathspec==0.7.0\r\n",
      "pathtools==0.1.2\r\n",
      "patsy==0.5.1\r\n",
      "pep8==1.7.1\r\n",
      "pexpect @ file:///tmp/build/80754af9/pexpect_1605563209008/work\r\n",
      "pickleshare @ file:///tmp/build/80754af9/pickleshare_1606932040724/work\r\n",
      "Pillow @ file:///opt/concourse/worker/volumes/live/58ac8b05-9c32-444c-5460-921d3b599939/volume/pillow_1625655835023/work\r\n",
      "pkginfo==1.7.0\r\n",
      "pluggy @ file:///opt/concourse/worker/volumes/live/f85b5d5a-abad-4f46-46ad-4ead594efa77/volume/pluggy_1615976299968/work\r\n",
      "ply==3.11\r\n",
      "poyo @ file:///tmp/build/80754af9/poyo_1617751526755/work\r\n",
      "prometheus-client @ file:///tmp/build/80754af9/prometheus_client_1623189609245/work\r\n",
      "prompt-toolkit @ file:///tmp/build/80754af9/prompt-toolkit_1616415428029/work\r\n",
      "psutil @ file:///opt/concourse/worker/volumes/live/8e01e0e9-ea07-4efa-7afb-fae37c1b9faa/volume/psutil_1612298009056/work\r\n",
      "ptyprocess @ file:///tmp/build/80754af9/ptyprocess_1609355006118/work/dist/ptyprocess-0.7.0-py2.py3-none-any.whl\r\n",
      "py @ file:///tmp/build/80754af9/py_1607971587848/work\r\n",
      "pycodestyle @ file:///home/ktietz/src/ci_mi/pycodestyle_1612807597675/work\r\n",
      "pycosat==0.6.3\r\n",
      "pycparser @ file:///tmp/build/80754af9/pycparser_1594388511720/work\r\n",
      "pycrypto==2.6.1\r\n",
      "pycurl==7.43.0.6\r\n",
      "pydocstyle @ file:///tmp/build/80754af9/pydocstyle_1621600989141/work\r\n",
      "pyerfa @ file:///opt/concourse/worker/volumes/live/cd791586-f5bd-4251-7c67-8a1e9c87309b/volume/pyerfa_1621560801630/work\r\n",
      "pyflakes @ file:///home/ktietz/src/ci_ipy2/pyflakes_1612551159640/work\r\n",
      "Pygments @ file:///tmp/build/80754af9/pygments_1621606182707/work\r\n",
      "pylint @ file:///opt/concourse/worker/volumes/live/4732f19f-4f05-4452-62ad-ffb8b2434156/volume/pylint_1625467690649/work\r\n",
      "pyls-black @ file:///tmp/build/80754af9/pyls-black_1607553132291/work\r\n",
      "pyls-spyder @ file:///tmp/build/80754af9/pyls-spyder_1613849700860/work\r\n",
      "pyodbc===4.0.0-unsupported\r\n",
      "pyOpenSSL @ file:///tmp/build/80754af9/pyopenssl_1608057966937/work\r\n",
      "pyparsing @ file:///home/linux1/recipes/ci/pyparsing_1610983426697/work\r\n",
      "pyrsistent @ file:///opt/concourse/worker/volumes/live/656e0c1b-ef87-4251-4a51-1290b2351993/volume/pyrsistent_1600141745371/work\r\n",
      "PySocks @ file:///opt/concourse/worker/volumes/live/ef943889-94fc-4539-798d-461c60b77804/volume/pysocks_1605305801690/work\r\n",
      "pytest==6.2.4\r\n",
      "pytest-arraydiff==0.3\r\n",
      "pytest-astropy==0.5.0\r\n",
      "pytest-doctestplus==0.3.0\r\n",
      "pytest-openfiles==0.3.2\r\n",
      "pytest-remotedata==0.3.1\r\n",
      "python-dateutil @ file:///home/ktietz/src/ci/python-dateutil_1611928101742/work\r\n",
      "python-jsonrpc-server @ file:///tmp/build/80754af9/python-jsonrpc-server_1600278539111/work\r\n",
      "python-language-server @ file:///tmp/build/80754af9/python-language-server_1607972495879/work\r\n",
      "python-slugify @ file:///tmp/build/80754af9/python-slugify_1620405669636/work\r\n",
      "python-xbrl==1.1.1\r\n",
      "pytz @ file:///tmp/build/80754af9/pytz_1612215392582/work\r\n",
      "PyWavelets @ file:///opt/concourse/worker/volumes/live/4c8a2af4-1e43-4df6-4c7a-c73342176802/volume/pywavelets_1601658329224/work\r\n",
      "PyYAML==5.4.1\r\n",
      "pyzmq==20.0.0\r\n",
      "QDarkStyle @ file:///tmp/build/80754af9/qdarkstyle_1617386714626/work\r\n",
      "qstylizer @ file:///tmp/build/80754af9/qstylizer_1617713584600/work/dist/qstylizer-0.1.10-py2.py3-none-any.whl\r\n",
      "QtAwesome @ file:///tmp/build/80754af9/qtawesome_1615991616277/work\r\n",
      "qtconsole @ file:///tmp/build/80754af9/qtconsole_1623278325812/work\r\n",
      "QtPy==1.9.0\r\n",
      "ratelim==0.1.6\r\n",
      "regex @ file:///opt/concourse/worker/volumes/live/6dbf579b-ae2b-4710-566e-2bd99f64dea6/volume/regex_1625610100180/work\r\n",
      "requests @ file:///tmp/build/80754af9/requests_1608241421344/work\r\n",
      "rope @ file:///tmp/build/80754af9/rope_1623703006312/work\r\n",
      "Rtree @ file:///opt/concourse/worker/volumes/live/5c63c097-8e47-46e3-5b05-c6294368c0c9/volume/rtree_1618420831358/work\r\n",
      "ruamel-yaml-conda @ file:///opt/concourse/worker/volumes/live/da6f10aa-e617-4894-45a9-cfdf5da681c3/volume/ruamel_yaml_1616016690897/work\r\n",
      "scikit-image==0.18.1\r\n",
      "scikit-learn @ file:///opt/concourse/worker/volumes/live/f0bd346e-3899-4f7a-66d4-2d56daf61c92/volume/scikit-learn_1621370395459/work\r\n",
      "scipy==1.2.1\r\n",
      "seaborn @ file:///tmp/build/80754af9/seaborn_1608578541026/work\r\n",
      "Send2Trash @ file:///tmp/build/80754af9/send2trash_1607525499227/work\r\n",
      "simplegeneric==0.8.1\r\n",
      "singledispatch @ file:///tmp/build/80754af9/singledispatch_1623948242478/work\r\n",
      "six @ file:///tmp/build/80754af9/six_1623709665295/work\r\n",
      "sklearn==0.0\r\n",
      "smart-open==5.2.1\r\n",
      "sniffio @ file:///opt/concourse/worker/volumes/live/838fa2d9-a35b-4591-50ce-1f1a39baa1df/volume/sniffio_1614030463440/work\r\n",
      "snowballstemmer @ file:///tmp/build/80754af9/snowballstemmer_1611258885636/work\r\n",
      "sortedcollections @ file:///tmp/build/80754af9/sortedcollections_1611172717284/work\r\n",
      "sortedcontainers @ file:///tmp/build/80754af9/sortedcontainers_1623949099177/work\r\n",
      "soupsieve @ file:///tmp/build/80754af9/soupsieve_1616183228191/work\r\n",
      "Sphinx @ file:///tmp/build/80754af9/sphinx_1623884544367/work\r\n",
      "sphinxcontrib-applehelp @ file:///home/ktietz/src/ci/sphinxcontrib-applehelp_1611920841464/work\r\n",
      "sphinxcontrib-devhelp @ file:///home/ktietz/src/ci/sphinxcontrib-devhelp_1611920923094/work\r\n",
      "sphinxcontrib-htmlhelp @ file:///tmp/build/80754af9/sphinxcontrib-htmlhelp_1623945626792/work\r\n",
      "sphinxcontrib-jsmath @ file:///home/ktietz/src/ci/sphinxcontrib-jsmath_1611920942228/work\r\n",
      "sphinxcontrib-qthelp @ file:///home/ktietz/src/ci/sphinxcontrib-qthelp_1611921055322/work\r\n",
      "sphinxcontrib-serializinghtml @ file:///tmp/build/80754af9/sphinxcontrib-serializinghtml_1624451540180/work\r\n",
      "sphinxcontrib-websupport @ file:///tmp/build/80754af9/sphinxcontrib-websupport_1597081412696/work\r\n",
      "spyder @ file:///opt/concourse/worker/volumes/live/341c9bf3-a7be-41ad-6ab2-6656146ee45e/volume/spyder_1623423591012/work\r\n",
      "spyder-kernels @ file:///opt/concourse/worker/volumes/live/4dd6d308-018d-455e-4157-72ba05d3c32d/volume/spyder-kernels_1625671051240/work\r\n",
      "SQLAlchemy @ file:///opt/concourse/worker/volumes/live/d324e82c-e3e0-4eeb-4ef4-ad1fbc59cec4/volume/sqlalchemy_1624590427676/work\r\n",
      "statsmodels @ file:///opt/concourse/worker/volumes/live/ad2325f1-005b-4882-5896-b1e5f01ee884/volume/statsmodels_1614023733346/work\r\n",
      "sympy @ file:///opt/concourse/worker/volumes/live/05e0f466-4609-40d9-6c87-068cbbef5dbb/volume/sympy_1618255309320/work\r\n",
      "tables==3.6.1\r\n",
      "tblib @ file:///tmp/build/80754af9/tblib_1597928476713/work\r\n",
      "terminado==0.9.4\r\n",
      "testpath @ file:///tmp/build/80754af9/testpath_1624638946665/work\r\n",
      "text-unidecode==1.3\r\n",
      "textdistance @ file:///tmp/build/80754af9/textdistance_1612461398012/work\r\n",
      "threadpoolctl @ file:///tmp/tmp9twdgx9k/threadpoolctl-2.1.0-py3-none-any.whl\r\n",
      "three-merge @ file:///tmp/build/80754af9/three-merge_1607553261110/work\r\n",
      "tifffile==2020.10.1\r\n",
      "tinycss @ file:///tmp/build/80754af9/tinycss_1617713798712/work\r\n",
      "toml @ file:///tmp/build/80754af9/toml_1616166611790/work\r\n",
      "toolz @ file:///home/linux1/recipes/ci/toolz_1610987900194/work\r\n",
      "torch==1.10.2\r\n",
      "tornado @ file:///opt/concourse/worker/volumes/live/d531d395-893c-4ca1-6a5f-717b318eb08c/volume/tornado_1606942307627/work\r\n",
      "tqdm @ file:///tmp/build/80754af9/tqdm_1625563689033/work\r\n",
      "traitlets @ file:///home/ktietz/src/ci/traitlets_1611929699868/work\r\n",
      "typed-ast @ file:///opt/concourse/worker/volumes/live/22984077-cbd4-449f-4417-2737b09fa494/volume/typed-ast_1624953682230/work\r\n",
      "typing-extensions @ file:///tmp/build/80754af9/typing_extensions_1624965014186/work\r\n",
      "ujson @ file:///opt/concourse/worker/volumes/live/cb669503-d1bd-4eaa-748a-6413c0db0db0/volume/ujson_1611259509883/work\r\n",
      "unicodecsv==0.14.1\r\n",
      "Unidecode @ file:///tmp/build/80754af9/unidecode_1614712377438/work\r\n",
      "urllib3 @ file:///tmp/build/80754af9/urllib3_1625084269274/work\r\n",
      "utils==1.0.1\r\n",
      "watchdog @ file:///opt/concourse/worker/volumes/live/c4528658-1c69-4c03-79d7-6ee2400654e6/volume/watchdog_1612471130482/work\r\n",
      "wcwidth @ file:///tmp/build/80754af9/wcwidth_1593447189090/work\r\n",
      "webencodings==0.5.1\r\n",
      "Werkzeug @ file:///home/ktietz/src/ci/werkzeug_1611932622770/work\r\n",
      "whichcraft @ file:///tmp/build/80754af9/whichcraft_1617751293875/work\r\n",
      "widgetsnbextension==3.5.1\r\n",
      "wrapt==1.12.1\r\n",
      "wurlitzer @ file:///opt/concourse/worker/volumes/live/a07f2ad6-5a18-4b19-78a6-11eea045a34d/volume/wurlitzer_1617224647004/work\r\n",
      "xlrd @ file:///tmp/build/80754af9/xlrd_1608072521494/work\r\n",
      "XlsxWriter @ file:///tmp/build/80754af9/xlsxwriter_1625467534673/work\r\n",
      "xlwings==0.24.2\r\n",
      "xlwt==1.3.0\r\n",
      "yapf @ file:///tmp/build/80754af9/yapf_1615749224965/work\r\n",
      "zict==2.0.0\r\n",
      "zipp @ file:///tmp/build/80754af9/zipp_1625570634446/work\r\n",
      "zope.event==4.5.0\r\n",
      "zope.interface @ file:///opt/concourse/worker/volumes/live/e2e9977a-a3b7-4323-6e48-b61fb3ed115b/volume/zope.interface_1625036168072/work\r\n"
     ]
    }
   ],
   "source": [
    "!pip freeze"
   ]
  },
  {
   "cell_type": "code",
   "execution_count": 9,
   "id": "1d8a2389",
   "metadata": {},
   "outputs": [
    {
     "name": "stdout",
     "output_type": "stream",
     "text": [
      "Python 3.7.3\r\n"
     ]
    }
   ],
   "source": [
    "!python --version"
   ]
  },
  {
   "cell_type": "code",
   "execution_count": null,
   "id": "c255ea6f",
   "metadata": {},
   "outputs": [],
   "source": []
  }
 ],
 "metadata": {
  "kernelspec": {
   "display_name": "Python 3",
   "language": "python",
   "name": "python3"
  },
  "language_info": {
   "codemirror_mode": {
    "name": "ipython",
    "version": 3
   },
   "file_extension": ".py",
   "mimetype": "text/x-python",
   "name": "python",
   "nbconvert_exporter": "python",
   "pygments_lexer": "ipython3",
   "version": "3.7.3"
  }
 },
 "nbformat": 4,
 "nbformat_minor": 5
}
